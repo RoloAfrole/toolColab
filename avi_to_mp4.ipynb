{
  "nbformat": 4,
  "nbformat_minor": 0,
  "metadata": {
    "colab": {
      "name": "avi_to_mp4.ipynb",
      "provenance": [],
      "private_outputs": true,
      "collapsed_sections": [],
      "include_colab_link": true
    },
    "kernelspec": {
      "name": "python3",
      "display_name": "Python 3"
    }
  },
  "cells": [
    {
      "cell_type": "markdown",
      "metadata": {
        "id": "view-in-github",
        "colab_type": "text"
      },
      "source": [
        "<a href=\"https://colab.research.google.com/github/RoloAfrole/toolColab/blob/master/avi_to_mp4.ipynb\" target=\"_parent\"><img src=\"https://colab.research.google.com/assets/colab-badge.svg\" alt=\"Open In Colab\"/></a>"
      ]
    },
    {
      "cell_type": "code",
      "metadata": {
        "id": "wsLhOw4KAyO-",
        "colab_type": "code",
        "colab": {}
      },
      "source": [
        "from google.colab import files\n",
        "\n",
        "uploaded = files.upload()"
      ],
      "execution_count": 0,
      "outputs": []
    },
    {
      "cell_type": "code",
      "metadata": {
        "id": "FfXp0cyLA-Oa",
        "colab_type": "code",
        "colab": {}
      },
      "source": [
        "import os\n",
        "\n",
        "for fn in uploaded.keys():\n",
        "  filename = fn\n",
        "  break\n",
        " \n",
        "basename, ext = os.path.splitext(os.path.basename(filename))\n",
        "os.environ['U_FILENAME'] = filename\n",
        "os.environ['U_BASENAME'] = basename\n",
        "\n",
        "!mkdir $U_BASENAME"
      ],
      "execution_count": 0,
      "outputs": []
    },
    {
      "cell_type": "code",
      "metadata": {
        "id": "dRv7A5K0Avd7",
        "colab_type": "code",
        "colab": {}
      },
      "source": [
        "!ffmpeg -i ${U_FILENAME} -vcodec libx264 -qp 0 -pix_fmt yuv420p ${U_BASENAME}.mp4"
      ],
      "execution_count": 0,
      "outputs": []
    },
    {
      "cell_type": "code",
      "metadata": {
        "id": "O0zXKQNqFzdS",
        "colab_type": "code",
        "colab": {}
      },
      "source": [
        "from google.colab import files\n",
        "\n",
        "files.download('{}.mp4'.format(basename))"
      ],
      "execution_count": 0,
      "outputs": []
    }
  ]
}