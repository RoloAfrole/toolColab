{
  "nbformat": 4,
  "nbformat_minor": 0,
  "metadata": {
    "colab": {
      "name": "png_to_video.ipynb",
      "provenance": [],
      "private_outputs": true,
      "collapsed_sections": [],
      "include_colab_link": true
    },
    "kernelspec": {
      "name": "python3",
      "display_name": "Python 3"
    },
    "accelerator": "GPU"
  },
  "cells": [
    {
      "cell_type": "markdown",
      "metadata": {
        "id": "view-in-github",
        "colab_type": "text"
      },
      "source": [
        "<a href=\"https://colab.research.google.com/github/RoloAfrole/toolColab/blob/master/png_to_video.ipynb\" target=\"_parent\"><img src=\"https://colab.research.google.com/assets/colab-badge.svg\" alt=\"Open In Colab\"/></a>"
      ]
    },
    {
      "cell_type": "code",
      "metadata": {
        "id": "wsLhOw4KAyO-",
        "colab_type": "code",
        "colab": {}
      },
      "source": [
        "from google.colab import files\n",
        "\n",
        "uploaded = files.upload()"
      ],
      "execution_count": 0,
      "outputs": []
    },
    {
      "cell_type": "code",
      "metadata": {
        "id": "FfXp0cyLA-Oa",
        "colab_type": "code",
        "colab": {}
      },
      "source": [
        "import os\n",
        "\n",
        "for fn in uploaded.keys():\n",
        "  filename = fn\n",
        "  break\n",
        " \n",
        "basename, ext = os.path.splitext(os.path.basename(filename))\n",
        "os.environ['U_FILENAME'] = filename\n",
        "os.environ['U_BASENAME'] = basename"
      ],
      "execution_count": 0,
      "outputs": []
    },
    {
      "cell_type": "code",
      "metadata": {
        "id": "s3j-1mmqLDs1",
        "colab_type": "code",
        "colab": {}
      },
      "source": [
        "!7z x $U_FILENAME 1>/dev/null"
      ],
      "execution_count": 0,
      "outputs": []
    },
    {
      "cell_type": "code",
      "metadata": {
        "id": "dRv7A5K0Avd7",
        "colab_type": "code",
        "colab": {}
      },
      "source": [
        "!ffmpeg -r 30 -i ./${U_BASENAME}/${U_BASENAME}_%06d.png -vcodec libx264 -qp 0 -pix_fmt yuv420p -vf \"scale=trunc(iw/2)*2:trunc(ih/2)*2\" -r 30 ${U_BASENAME}.mp4"
      ],
      "execution_count": 0,
      "outputs": []
    },
    {
      "cell_type": "code",
      "metadata": {
        "id": "O0zXKQNqFzdS",
        "colab_type": "code",
        "colab": {}
      },
      "source": [
        "from google.colab import files\n",
        "\n",
        "files.download('{}.mp4'.format(basename))"
      ],
      "execution_count": 0,
      "outputs": []
    }
  ]
}