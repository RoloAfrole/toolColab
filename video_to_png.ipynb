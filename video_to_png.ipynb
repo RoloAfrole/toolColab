{
  "nbformat": 4,
  "nbformat_minor": 0,
  "metadata": {
    "colab": {
      "name": "video_to_png.ipynb",
      "provenance": [],
      "private_outputs": true,
      "collapsed_sections": []
    },
    "kernelspec": {
      "name": "python3",
      "display_name": "Python 3"
    },
    "accelerator": "GPU"
  },
  "cells": [
    {
      "cell_type": "code",
      "metadata": {
        "id": "wsLhOw4KAyO-",
        "colab_type": "code",
        "colab": {}
      },
      "source": [
        "from google.colab import files\n",
        "\n",
        "uploaded = files.upload()"
      ],
      "execution_count": 0,
      "outputs": []
    },
    {
      "cell_type": "code",
      "metadata": {
        "id": "YEQvlYvTHnEh",
        "colab_type": "code",
        "colab": {}
      },
      "source": [
        "for fn in uploaded.keys():\n",
        "  print('User uploaded file \"{name}\" with length {length} bytes'.format(\n",
        "      name=fn, length=len(uploaded[fn])))"
      ],
      "execution_count": 0,
      "outputs": []
    },
    {
      "cell_type": "code",
      "metadata": {
        "id": "FfXp0cyLA-Oa",
        "colab_type": "code",
        "colab": {}
      },
      "source": [
        "import os\n",
        "\n",
        "for fn in uploaded.keys():\n",
        "  filename = fn\n",
        "  break\n",
        " \n",
        "basename, ext = os.path.splitext(os.path.basename(filename))\n",
        "os.environ['U_FILENAME'] = filename\n",
        "os.environ['U_BASENAME'] = basename\n",
        "\n",
        "!mkdir $U_BASENAME"
      ],
      "execution_count": 0,
      "outputs": []
    },
    {
      "cell_type": "code",
      "metadata": {
        "id": "dRv7A5K0Avd7",
        "colab_type": "code",
        "colab": {}
      },
      "source": [
        "!ffmpeg -i $U_FILENAME -vcodec png -r 30 \"./Images/${U_BASENAME}_%06d.png\""
      ],
      "execution_count": 0,
      "outputs": []
    },
    {
      "cell_type": "code",
      "metadata": {
        "id": "32i_GmnWDsZs",
        "colab_type": "code",
        "colab": {}
      },
      "source": [
        "!zip -r \"${U_BASENAME}.zip\" $U_BASENAME 1>/dev/null"
      ],
      "execution_count": 0,
      "outputs": []
    },
    {
      "cell_type": "code",
      "metadata": {
        "id": "O0zXKQNqFzdS",
        "colab_type": "code",
        "colab": {}
      },
      "source": [
        "from google.colab import files\n",
        "\n",
        "files.download('{}.zip'.format(basename))"
      ],
      "execution_count": 0,
      "outputs": []
    }
  ]
}